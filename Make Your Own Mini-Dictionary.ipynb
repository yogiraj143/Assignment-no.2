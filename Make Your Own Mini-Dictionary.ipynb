{
 "cells": [
  {
   "cell_type": "code",
   "execution_count": 2,
   "id": "01a150ff",
   "metadata": {},
   "outputs": [
    {
     "name": "stdout",
     "output_type": "stream",
     "text": [
      "Alpha-Dict = {'a': 97, 'b': 98, 'c': 99, 'd': 100, 'e': 101, 'f': 102, 'g': 103, 'h': 104, 'i': 105, 'j': 106, 'k': 107, 'l': 108, 'm': 109, 'n': 110, 'o': 111, 'p': 112, 'q': 113, 'r': 114, 's': 115, 't': 116, 'u': 117, 'v': 118, 'w': 119, 'x': 120, 'y': 121, 'z': 122}\n"
     ]
    }
   ],
   "source": [
    "D1 = []\n",
    "for i in range(97,123):\n",
    "    D1.append(i)\n",
    "D2 = []\n",
    "for i in range(97,123):\n",
    "    D2.append(chr(i))\n",
    "alpha_dict = {}\n",
    "for x in D2:\n",
    "    for y in D1:\n",
    "        alpha_dict[x]=y\n",
    "        D1.remove(y)\n",
    "        break\n",
    "print(\"Alpha-Dict =\",alpha_dict)"
   ]
  },
  {
   "cell_type": "code",
   "execution_count": 3,
   "id": "a625907d",
   "metadata": {},
   "outputs": [
    {
     "name": "stdout",
     "output_type": "stream",
     "text": [
      "Alpha-Dict = {'a': 97, 'b': 98, 'c': 99, 'd': 100, 'e': 101, 'f': 102, 'g': 103, 'h': 104, 'i': 105, 'j': 106, 'k': 107, 'l': 108, 'm': 109, 'n': 110, 'o': 111, 'p': 112, 'q': 113, 'r': 114, 's': 115, 't': 116, 'u': 117, 'v': 118, 'w': 119, 'x': 120, 'y': 121, 'z': 122}\n"
     ]
    }
   ],
   "source": [
    "# Method No-2\n",
    "\n",
    "alpha_dict={}\n",
    "for i in range(97,123):\n",
    "    alpha_dict[chr(i)]=i\n",
    "print(\"Alpha-Dict =\",alpha_dict)    "
   ]
  },
  {
   "cell_type": "code",
   "execution_count": null,
   "id": "6eb59212",
   "metadata": {},
   "outputs": [],
   "source": []
  }
 ],
 "metadata": {
  "kernelspec": {
   "display_name": "Python 3 (ipykernel)",
   "language": "python",
   "name": "python3"
  },
  "language_info": {
   "codemirror_mode": {
    "name": "ipython",
    "version": 3
   },
   "file_extension": ".py",
   "mimetype": "text/x-python",
   "name": "python",
   "nbconvert_exporter": "python",
   "pygments_lexer": "ipython3",
   "version": "3.9.7"
  }
 },
 "nbformat": 4,
 "nbformat_minor": 5
}
